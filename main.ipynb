{
 "cells": [
  {
   "cell_type": "markdown",
   "metadata": {},
   "source": [
    "### Three observations based on the data\n",
    "\n",
    "#### Observation 1: CNN express negative sentiment in their recent 100 tweets.\n",
    "\n",
    "#### Observation 2: Fox and BBCWorld, CBS and NYTimes express positive sentiment in their recent 100 tweets.\n",
    "\n",
    "#### Observation 3: Fox news channel expresses that all is well in United States and BBCWorld reflects the overall growth and progression of the entire world."
   ]
  },
  {
   "cell_type": "code",
   "execution_count": 17,
   "metadata": {
    "collapsed": true
   },
   "outputs": [],
   "source": [
    "# Dependencies\n",
    "import tweepy\n",
    "import json\n",
    "import numpy as np\n",
    "import pandas as pd\n",
    "import matplotlib.pyplot as plt\n",
    "from datetime import datetime\n",
    "from vaderSentiment.vaderSentiment import SentimentIntensityAnalyzer\n",
    "from pylab import rcParams\n",
    "rcParams['figure.figsize'] = 10,8\n",
    "\n",
    "consumer_key='9SbkCncv6x35XQRkQ6MKqknF2'\n",
    "consumer_secret ='oyfLUM56AfZmCxXeMWewjBE6CHDbc8pmxOSag6wfNabBgUZkcx'\n",
    "access_token='1106479928-WKbDRI6xKQpea3fHlBG2HBcYuMqYKxsrYS7l17s'\n",
    "access_token_secret='jxbEqjsXLWgLyHtJ10CVWzundr0Guu8RLcK2YdnLRNBZA'"
   ]
  },
  {
   "cell_type": "code",
   "execution_count": 2,
   "metadata": {
    "collapsed": true
   },
   "outputs": [],
   "source": [
    "# Setup Tweepy API Authentication\n",
    "auth = tweepy.OAuthHandler(consumer_key, consumer_secret)\n",
    "auth.set_access_token(access_token, access_token_secret)\n",
    "api = tweepy.API(auth, parser=tweepy.parsers.JSONParser())"
   ]
  },
  {
   "cell_type": "code",
   "execution_count": 3,
   "metadata": {
    "collapsed": true
   },
   "outputs": [],
   "source": [
    "#Sentiment Intensitiy Analyzer\n",
    "analyzer = SentimentIntensityAnalyzer()\n",
    "\n",
    "#Target Account for each Media Source\n",
    "target_user = [\"@BBC\",\"@CBS\",\"@Fox\",\"@CNN\",\"@nytimes\"]\n",
    "\n"
   ]
  },
  {
   "cell_type": "code",
   "execution_count": 4,
   "metadata": {
    "collapsed": true
   },
   "outputs": [],
   "source": [
    "# Variables for holding sentiments\n",
    "sentiments_array = []\n",
    "counter = 1\n",
    "# Loop through total 100 tweets\n",
    "for x in range(5):\n",
    "    \n",
    "   \n",
    "    #loop through each Media Source\n",
    "    for target in target_user:\n",
    "        # Get all tweets from home feed\n",
    "        public_tweets = api.user_timeline(target)\n",
    "             \n",
    "\n",
    "        # Loop through all tweets \n",
    "        for tweet in public_tweets:\n",
    "            \n",
    "            \n",
    "            # Run vaderSentiment on each tweet\n",
    "            results = analyzer.polarity_scores(tweet[\"text\"])\n",
    "            compound = results[\"compound\"]\n",
    "            pos = results[\"pos\"]\n",
    "            neu = results[\"neu\"]\n",
    "            neg = results[\"neg\"]\n",
    "            \n",
    "           \n",
    "        \n",
    "            # Add sentiments for each tweet into an array\n",
    "            sentiments_array.append({\"Date\": tweet[\"created_at\"],\n",
    "                               \"Screen_Name\": tweet['user']['screen_name'],\n",
    "                               \"Compound\": compound,\n",
    "                               \"Positive\": pos,\n",
    "                               \"Negative\": neu,\n",
    "                               \"Neutral\": neg})\n",
    "            counter=counter+1"
   ]
  },
  {
   "cell_type": "code",
   "execution_count": 5,
   "metadata": {},
   "outputs": [
    {
     "data": {
      "text/html": [
       "<div>\n",
       "<style>\n",
       "    .dataframe thead tr:only-child th {\n",
       "        text-align: right;\n",
       "    }\n",
       "\n",
       "    .dataframe thead th {\n",
       "        text-align: left;\n",
       "    }\n",
       "\n",
       "    .dataframe tbody tr th {\n",
       "        vertical-align: top;\n",
       "    }\n",
       "</style>\n",
       "<table border=\"1\" class=\"dataframe\">\n",
       "  <thead>\n",
       "    <tr style=\"text-align: right;\">\n",
       "      <th></th>\n",
       "      <th>Compound</th>\n",
       "      <th>Date</th>\n",
       "      <th>Negative</th>\n",
       "      <th>Neutral</th>\n",
       "      <th>Positive</th>\n",
       "      <th>Screen_Name</th>\n",
       "    </tr>\n",
       "  </thead>\n",
       "  <tbody>\n",
       "    <tr>\n",
       "      <th>0</th>\n",
       "      <td>0.3291</td>\n",
       "      <td>Sat Dec 02 21:59:04 +0000 2017</td>\n",
       "      <td>0.895</td>\n",
       "      <td>0.0</td>\n",
       "      <td>0.105</td>\n",
       "      <td>BBC</td>\n",
       "    </tr>\n",
       "    <tr>\n",
       "      <th>1</th>\n",
       "      <td>0.0000</td>\n",
       "      <td>Sat Dec 02 20:00:05 +0000 2017</td>\n",
       "      <td>1.000</td>\n",
       "      <td>0.0</td>\n",
       "      <td>0.000</td>\n",
       "      <td>BBC</td>\n",
       "    </tr>\n",
       "    <tr>\n",
       "      <th>2</th>\n",
       "      <td>0.6369</td>\n",
       "      <td>Sat Dec 02 19:57:21 +0000 2017</td>\n",
       "      <td>0.811</td>\n",
       "      <td>0.0</td>\n",
       "      <td>0.189</td>\n",
       "      <td>BBC</td>\n",
       "    </tr>\n",
       "    <tr>\n",
       "      <th>3</th>\n",
       "      <td>0.0000</td>\n",
       "      <td>Sat Dec 02 19:49:59 +0000 2017</td>\n",
       "      <td>1.000</td>\n",
       "      <td>0.0</td>\n",
       "      <td>0.000</td>\n",
       "      <td>BBC</td>\n",
       "    </tr>\n",
       "    <tr>\n",
       "      <th>4</th>\n",
       "      <td>0.5093</td>\n",
       "      <td>Sat Dec 02 19:48:25 +0000 2017</td>\n",
       "      <td>0.829</td>\n",
       "      <td>0.0</td>\n",
       "      <td>0.171</td>\n",
       "      <td>BBC</td>\n",
       "    </tr>\n",
       "  </tbody>\n",
       "</table>\n",
       "</div>"
      ],
      "text/plain": [
       "   Compound                            Date  Negative  Neutral  Positive  \\\n",
       "0    0.3291  Sat Dec 02 21:59:04 +0000 2017     0.895      0.0     0.105   \n",
       "1    0.0000  Sat Dec 02 20:00:05 +0000 2017     1.000      0.0     0.000   \n",
       "2    0.6369  Sat Dec 02 19:57:21 +0000 2017     0.811      0.0     0.189   \n",
       "3    0.0000  Sat Dec 02 19:49:59 +0000 2017     1.000      0.0     0.000   \n",
       "4    0.5093  Sat Dec 02 19:48:25 +0000 2017     0.829      0.0     0.171   \n",
       "\n",
       "  Screen_Name  \n",
       "0         BBC  \n",
       "1         BBC  \n",
       "2         BBC  \n",
       "3         BBC  \n",
       "4         BBC  "
      ]
     },
     "execution_count": 5,
     "metadata": {},
     "output_type": "execute_result"
    }
   ],
   "source": [
    "#Generated dataframe containing sentiment for Media Sources\n",
    "sentiment_analysis= pd.DataFrame(sentiments_array) \n",
    "# Mean compound sentiment for recent 100 tweets of @BBC\n",
    "bbc_mean=np.mean(sentiment_analysis['Compound'])\n",
    "#display head of df_sentiment_analysis \n",
    "sentiment_analysis.head()"
   ]
  },
  {
   "cell_type": "code",
   "execution_count": 6,
   "metadata": {
    "collapsed": true
   },
   "outputs": [],
   "source": [
    "#Save dataframe in to CSV file\n",
    "sentiment_analysis.to_csv('Sentiment_Analyses_Twitter.csv',header=True, index=False)"
   ]
  },
  {
   "cell_type": "code",
   "execution_count": 8,
   "metadata": {},
   "outputs": [],
   "source": [
    "#Create dataframes for all the media sources\n",
    "BBC = sentiment_analysis[sentiment_analysis['Screen_Name'] == 'BBC']\n",
    "CBS = sentiment_analysis[sentiment_analysis['Screen_Name'] == 'CBS']\n",
    "FOX = sentiment_analysis[sentiment_analysis['Screen_Name'] == 'fox']\n",
    "CNN = sentiment_analysis[sentiment_analysis['Screen_Name'] == 'CNN']\n",
    "nytimes = sentiment_analysis[sentiment_analysis['Screen_Name'] == 'nytimes']"
   ]
  },
  {
   "cell_type": "code",
   "execution_count": 18,
   "metadata": {},
   "outputs": [
    {
     "data": {
      "image/png": "[encoded data removed]",
      "text/plain": [
       "<matplotlib.figure.Figure at 0x2b33d73fef0>"
      ]
     },
     "metadata": {},
     "output_type": "display_data"
    }
   ],
   "source": [
    "#Plot of Sentiment Analysis of Media Tweets\n",
    "\n",
    "x_values = np.arange(1,BBC.shape[0]+1)\n",
    "\n",
    "\n",
    "plt.figure(figsize=(10,8))\n",
    "plt.scatter(x_values[::-1],BBC['Compound'],s =100,facecolor='orange',edgecolors='black',linewidth=1,alpha=1,label='BBC')\n",
    "plt.scatter(x_values[::-1],CBS['Compound'],s =100,facecolor='blue',edgecolors='black',linewidth=1,alpha=1,label = 'CBS')\n",
    "plt.scatter(x_values[::-1],CNN['Compound'],s =100,facecolor='green',edgecolors='black',linewidth=1,alpha=1,color='yellow',label='CNN')\n",
    "plt.scatter(x_values[::-1],FOX['Compound'],s =100,facecolor='red',edgecolors='black',linewidth=1,alpha=1,color='b',label='Fox')\n",
    "plt.scatter(x_values[::-1],nytimes['Compound'],s =100,facecolor='yellow',edgecolors='black',linewidth=1,alpha=1,color='green',label='New York Times')\n",
    "\n",
    "plt.legend(frameon=True,shadow= True,edgecolor='black',fontsize = 'medium', title='Media Sources', bbox_to_anchor=(1, 1))\n",
    "plt.xlim(0,100)\n",
    "plt.xlabel('Tweets Ago',fontsize='18')\n",
    "plt.ylabel('Tweet Polarity',fontsize='18')\n",
    "\n",
    "now = datetime.now()\n",
    "now = now.strftime(\"%m-%d-%Y\")\n",
    "plt.title('Sentiment Analysis of Media Tweets ({})'.format(now),fontsize=(18))\n",
    "\n",
    "plt.ylim(-1,1)\n",
    "plt.xlim(101,0)\n",
    "plt.savefig('Media_Tweets.png')\n",
    "plt.show()"
   ]
  },
  {
   "cell_type": "code",
   "execution_count": 19,
   "metadata": {},
   "outputs": [
    {
     "data": {
      "text/html": [
       "<div>\n",
       "<style>\n",
       "    .dataframe thead tr:only-child th {\n",
       "        text-align: right;\n",
       "    }\n",
       "\n",
       "    .dataframe thead th {\n",
       "        text-align: left;\n",
       "    }\n",
       "\n",
       "    .dataframe tbody tr th {\n",
       "        vertical-align: top;\n",
       "    }\n",
       "</style>\n",
       "<table border=\"1\" class=\"dataframe\">\n",
       "  <thead>\n",
       "    <tr style=\"text-align: right;\">\n",
       "      <th></th>\n",
       "      <th>Media Sources</th>\n",
       "      <th>Avg. Compound</th>\n",
       "    </tr>\n",
       "  </thead>\n",
       "  <tbody>\n",
       "    <tr>\n",
       "      <th>0</th>\n",
       "      <td>BBC</td>\n",
       "      <td>0.198255</td>\n",
       "    </tr>\n",
       "    <tr>\n",
       "      <th>1</th>\n",
       "      <td>CBS</td>\n",
       "      <td>0.317310</td>\n",
       "    </tr>\n",
       "    <tr>\n",
       "      <th>2</th>\n",
       "      <td>CNN</td>\n",
       "      <td>-0.107480</td>\n",
       "    </tr>\n",
       "    <tr>\n",
       "      <th>3</th>\n",
       "      <td>fox</td>\n",
       "      <td>0.273850</td>\n",
       "    </tr>\n",
       "    <tr>\n",
       "      <th>4</th>\n",
       "      <td>nytimes</td>\n",
       "      <td>0.116590</td>\n",
       "    </tr>\n",
       "  </tbody>\n",
       "</table>\n",
       "</div>"
      ],
      "text/plain": [
       "  Media Sources  Avg. Compound\n",
       "0           BBC       0.198255\n",
       "1           CBS       0.317310\n",
       "2           CNN      -0.107480\n",
       "3           fox       0.273850\n",
       "4       nytimes       0.116590"
      ]
     },
     "execution_count": 19,
     "metadata": {},
     "output_type": "execute_result"
    }
   ],
   "source": [
    "#Overall Media Sentiment based on Twitter table\n",
    "avg_compound = sentiment_analysis.groupby([\"Screen_Name\"])[\"Compound\"].mean().reset_index()\n",
    "\n",
    "\n",
    "#rename the columns in df_sentiment_analysis_avg_compound dataframe \n",
    "avg_compound.rename_axis({'Screen_Name': 'Media Sources', 'Compound': 'Avg. Compound'},axis=1,inplace=True)\n",
    "\n",
    "avg_compound"
   ]
  },
  {
   "cell_type": "code",
   "execution_count": 20,
   "metadata": {},
   "outputs": [
    {
     "data": {
      "image/png": "[encoded data removed]",
      "text/plain": [
       "<matplotlib.figure.Figure at 0x2b33d62a438>"
      ]
     },
     "metadata": {},
     "output_type": "display_data"
    }
   ],
   "source": [
    "#Plot of overall Media Sentiment Analysis\n",
    "colorss = ['r', 'y', 'o', 'b', 'g']\n",
    "sentiment_analysis.groupby([\"Screen_Name\"])[\"Compound\"].mean().plot(kind='bar',color=colorss)\n",
    "plt.ylabel('Tweet Polarity',fontsize='10')\n",
    "plt.xlabel('Media Sources',fontsize='10')\n",
    "plt.xticks(rotation=0)\n",
    "\n",
    "now = datetime.now()\n",
    "now = now.strftime(\"%m/%d/%Y\")\n",
    "plt.title('Overall Media Sentiment based on Twitter ({})'.format(now),fontsize=(10))\n",
    "plt.savefig(\"Media_Sentiments.png\")\n",
    "plt.show()"
   ]
  },
  {
   "cell_type": "code",
   "execution_count": null,
   "metadata": {
    "collapsed": true
   },
   "outputs": [],
   "source": []
  }
 ],
 "metadata": {
  "kernelspec": {
   "display_name": "Python 3",
   "language": "python",
   "name": "python3"
  },
  "language_info": {
   "codemirror_mode": {
    "name": "ipython",
    "version": 3
   },
   "file_extension": ".py",
   "mimetype": "text/x-python",
   "name": "python",
   "nbconvert_exporter": "python",
   "pygments_lexer": "ipython3",
   "version": "3.6.2"
  }
 },
 "nbformat": 4,
 "nbformat_minor": 2
}
